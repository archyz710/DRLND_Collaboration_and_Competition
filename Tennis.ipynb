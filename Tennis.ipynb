{
 "cells": [
  {
   "cell_type": "markdown",
   "metadata": {},
   "source": [
    "# Collaboration and Competition\n",
    "\n",
    "---\n",
    "\n",
    "You are welcome to use this coding environment to train your agent for the project.  Follow the instructions below to get started!\n",
    "\n",
    "### 1. Start the Environment\n",
    "\n",
    "Run the next code cell to install a few packages.  This line will take a few minutes to run!"
   ]
  },
  {
   "cell_type": "code",
   "execution_count": 1,
   "metadata": {},
   "outputs": [],
   "source": [
    "!pip -q install ./python"
   ]
  },
  {
   "cell_type": "markdown",
   "metadata": {},
   "source": [
    "The environment is already saved in the Workspace and can be accessed at the file path provided below. "
   ]
  },
  {
   "cell_type": "code",
   "execution_count": 2,
   "metadata": {},
   "outputs": [
    {
     "name": "stderr",
     "output_type": "stream",
     "text": [
      "INFO:unityagents:\n",
      "'Academy' started successfully!\n",
      "Unity Academy name: Academy\n",
      "        Number of Brains: 1\n",
      "        Number of External Brains : 1\n",
      "        Lesson number : 0\n",
      "        Reset Parameters :\n",
      "\t\t\n",
      "Unity brain name: TennisBrain\n",
      "        Number of Visual Observations (per agent): 0\n",
      "        Vector Observation space type: continuous\n",
      "        Vector Observation space size (per agent): 8\n",
      "        Number of stacked Vector Observation: 3\n",
      "        Vector Action space type: continuous\n",
      "        Vector Action space size (per agent): 2\n",
      "        Vector Action descriptions: , \n"
     ]
    }
   ],
   "source": [
    "from unityagents import UnityEnvironment\n",
    "import numpy as np\n",
    "\n",
    "env = UnityEnvironment(file_name=\"/data/Tennis_Linux_NoVis/Tennis\")"
   ]
  },
  {
   "cell_type": "markdown",
   "metadata": {},
   "source": [
    "Environments contain **_brains_** which are responsible for deciding the actions of their associated agents. Here we check for the first brain available, and set it as the default brain we will be controlling from Python."
   ]
  },
  {
   "cell_type": "code",
   "execution_count": 3,
   "metadata": {},
   "outputs": [],
   "source": [
    "# get the default brain\n",
    "brain_name = env.brain_names[0]\n",
    "brain = env.brains[brain_name]"
   ]
  },
  {
   "cell_type": "markdown",
   "metadata": {},
   "source": [
    "### 2. Examine the State and Action Spaces\n",
    "\n",
    "Run the code cell below to print some information about the environment."
   ]
  },
  {
   "cell_type": "code",
   "execution_count": 4,
   "metadata": {},
   "outputs": [
    {
     "name": "stdout",
     "output_type": "stream",
     "text": [
      "Number of agents: 2\n",
      "Size of each action: 2\n",
      "There are 2 agents. Each observes a state with length: 24\n",
      "The state for the first agent looks like: [ 0.          0.          0.          0.          0.          0.          0.\n",
      "  0.          0.          0.          0.          0.          0.          0.\n",
      "  0.          0.         -6.65278625 -1.5        -0.          0.\n",
      "  6.83172083  6.         -0.          0.        ]\n"
     ]
    }
   ],
   "source": [
    "# reset the environment\n",
    "env_info = env.reset(train_mode=False)[brain_name]\n",
    "\n",
    "# number of agents \n",
    "num_agents = len(env_info.agents)\n",
    "print('Number of agents:', num_agents)\n",
    "\n",
    "# size of each action\n",
    "action_size = brain.vector_action_space_size\n",
    "print('Size of each action:', action_size)\n",
    "\n",
    "# examine the state space \n",
    "states = env_info.vector_observations\n",
    "state_size = states.shape[1]\n",
    "print('There are {} agents. Each observes a state with length: {}'.format(states.shape[0], state_size))\n",
    "print('The state for the first agent looks like:', states[0])"
   ]
  },
  {
   "cell_type": "markdown",
   "metadata": {},
   "source": [
    "### 3. Take Random Actions in the Environment\n",
    "\n",
    "In the next code cell, you will learn how to use the Python API to control the agent and receive feedback from the environment.\n",
    "\n",
    "Note that **in this coding environment, you will not be able to watch the agents while they are training**, and you should set `train_mode=True` to restart the environment."
   ]
  },
  {
   "cell_type": "code",
   "execution_count": 5,
   "metadata": {},
   "outputs": [
    {
     "name": "stdout",
     "output_type": "stream",
     "text": [
      "Total score (averaged over agents) this episode: -0.004999999888241291\n",
      "Total score (averaged over agents) this episode: -0.004999999888241291\n",
      "Total score (averaged over agents) this episode: 0.09500000160187483\n",
      "Total score (averaged over agents) this episode: -0.004999999888241291\n",
      "Total score (averaged over agents) this episode: -0.004999999888241291\n"
     ]
    }
   ],
   "source": [
    "for i in range(5):                                         # play game for 5 episodes\n",
    "    env_info = env.reset(train_mode=False)[brain_name]     # reset the environment    \n",
    "    states = env_info.vector_observations                  # get the current state (for each agent)\n",
    "    scores = np.zeros(num_agents)                          # initialize the score (for each agent)\n",
    "    while True:\n",
    "        actions = np.random.randn(num_agents, action_size) # select an action (for each agent)\n",
    "        actions = np.clip(actions, -1, 1)                  # all actions between -1 and 1\n",
    "        env_info = env.step(actions)[brain_name]           # send all actions to tne environment\n",
    "        next_states = env_info.vector_observations         # get next state (for each agent)\n",
    "        rewards = env_info.rewards                         # get reward (for each agent)\n",
    "        dones = env_info.local_done                        # see if episode finished\n",
    "        scores += env_info.rewards                         # update the score (for each agent)\n",
    "        states = next_states                               # roll over states to next time step\n",
    "        if np.any(dones):                                  # exit loop if episode finished\n",
    "            break\n",
    "    print('Total score (averaged over agents) this episode: {}'.format(np.mean(scores)))"
   ]
  },
  {
   "cell_type": "markdown",
   "metadata": {},
   "source": [
    "When finished, you can close the environment."
   ]
  },
  {
   "cell_type": "code",
   "execution_count": 6,
   "metadata": {},
   "outputs": [],
   "source": [
    "# env.close()"
   ]
  },
  {
   "cell_type": "markdown",
   "metadata": {},
   "source": [
    "### 4. It's Your Turn!\n",
    "\n",
    "Now it's your turn to train your own agent to solve the environment!  A few **important notes**:\n",
    "- When training the environment, set `train_mode=True`, so that the line for resetting the environment looks like the following:\n",
    "```python\n",
    "env_info = env.reset(train_mode=True)[brain_name]\n",
    "```\n",
    "- To structure your work, you're welcome to work directly in this Jupyter notebook, or you might like to start over with a new file!  You can see the list of files in the workspace by clicking on **_Jupyter_** in the top left corner of the notebook.\n",
    "- In this coding environment, you will not be able to watch the agents while they are training.  However, **_after training the agents_**, you can download the saved model weights to watch the agents on your own machine! "
   ]
  },
  {
   "cell_type": "markdown",
   "metadata": {},
   "source": [
    "### 5. Import the necessary packages"
   ]
  },
  {
   "cell_type": "code",
   "execution_count": 7,
   "metadata": {},
   "outputs": [],
   "source": [
    "import torch\n",
    "from collections import deque\n",
    "from matplotlib import pyplot as plt\n",
    "import time\n",
    "\n",
    "from itertools import count\n",
    "import datetime\n",
    "\n",
    "from ddpg import DDPG, ReplayBuffer\n",
    "%matplotlib inline"
   ]
  },
  {
   "cell_type": "markdown",
   "metadata": {},
   "source": [
    "### 6. Hyper Parameters"
   ]
  },
  {
   "cell_type": "code",
   "execution_count": 8,
   "metadata": {},
   "outputs": [],
   "source": [
    "BUFFER_SIZE = int(1e6)  # replay buffer size\n",
    "BUFFER_FILL = int(1e4) # How much of the buffer should be filled before learning\n",
    "CACHE_SIZE = int(1e3)\n",
    "NUM_UPDATES_CACHE = 2 # How many times to update from cache buffer\n",
    "BATCH_SIZE = 256        # minibatch size\n",
    "GAMMA = 0.99            # discount factor\n",
    "TAU = 1e-3              # for soft update of target parameters\n",
    "LR_ACTOR = 1e-3         # learning rate of the actor\n",
    "LR_CRITIC = 1e-3        # learning rate of the critic\n",
    "WEIGHT_DECAY = 0        # L2 weight decay\n",
    "UPDATE_EVERY = 20       # timesteps between updates\n",
    "NUM_UPDATES = 15        # num of update passes when updating\n",
    "EPSILON = 1.0           # epsilon for the noise process added to the actions\n",
    "EPSILON_DECAY = 1e-6    # decay for epsilon above\n",
    "NOISE_SIGMA = 0.05\n",
    "\n",
    "fc1_units=96\n",
    "fc2_units=96\n",
    "\n",
    "random_seed=23\n",
    "RECREATE_EVERY=1 # Recreate agent models with new set of random weights"
   ]
  },
  {
   "cell_type": "code",
   "execution_count": 9,
   "metadata": {},
   "outputs": [
    {
     "data": {
      "text/plain": [
       "<function __main__.store(buffers, states, actions, rewards, next_states, dones, timestep)>"
      ]
     },
     "execution_count": 9,
     "metadata": {},
     "output_type": "execute_result"
    }
   ],
   "source": [
    "def store(buffers, states, actions, rewards, next_states, dones, timestep):\n",
    "    memory, cache = buffers\n",
    "    for state, action, reward, next_state, done in zip(states, actions, rewards, next_states, dones):\n",
    "        memory.add(state, action, reward, next_state, done)\n",
    "        cache.add(state, action, reward, next_state, done)\n",
    "store"
   ]
  },
  {
   "cell_type": "code",
   "execution_count": 10,
   "metadata": {},
   "outputs": [
    {
     "data": {
      "text/plain": [
       "<function __main__.learn(agent, buffers, timestep, i_episode)>"
      ]
     },
     "execution_count": 10,
     "metadata": {},
     "output_type": "execute_result"
    }
   ],
   "source": [
    "def learn(agent, buffers, timestep, i_episode):\n",
    "    memory, cache = buffers\n",
    "    if len(memory) > BUFFER_FILL and timestep % UPDATE_EVERY == 0: \n",
    "        for _ in range(NUM_UPDATES):\n",
    "            experiences = memory.sample()\n",
    "            agent.learn(experiences, GAMMA)\n",
    "        for _ in range(NUM_UPDATES_CACHE):\n",
    "            experiences = cache.sample()\n",
    "            agent.learn(experiences, GAMMA)\n",
    "    elif timestep == 0 and i_episode % RECREATE_EVERY == 0:        \n",
    "        agent.reset()\n",
    "    \n",
    "learn"
   ]
  },
  {
   "cell_type": "markdown",
   "metadata": {},
   "source": [
    "### 6. Train the agent"
   ]
  },
  {
   "cell_type": "code",
   "execution_count": 11,
   "metadata": {},
   "outputs": [
    {
     "data": {
      "text/plain": [
       "<function __main__.ddpg(agent, buffers, n_episodes=200, stopOnSolved=True)>"
      ]
     },
     "execution_count": 11,
     "metadata": {},
     "output_type": "execute_result"
    }
   ],
   "source": [
    "avg_over = 100\n",
    "print_every = 50\n",
    "\n",
    "def ddpg(agent, buffers, n_episodes=200, stopOnSolved=True):\n",
    "    scores_deque = deque(maxlen=avg_over)\n",
    "    scores_global = []\n",
    "    average_global = []\n",
    "    min_global = []    \n",
    "    best_avg = -np.inf\n",
    "\n",
    "    tic = time.time()\n",
    "    print('\\rNo,Score,  Avg,  Min, Time')\n",
    "    for i_episode in range(1, n_episodes+1):\n",
    "        env_info = env.reset(train_mode=True)[brain_name]      # reset the environment    \n",
    "        states = env_info.vector_observations                  # get the current state (for each agent)\n",
    "        scores = np.zeros(num_agents)                          # initialize the score (for each agent)\n",
    "        agent.reset()\n",
    "        \n",
    "        score_average = 0\n",
    "        timestep = time.time()\n",
    "        for t in count():\n",
    "            actions = agent.act(states, add_noise=True)\n",
    "            env_info = env.step(actions)[brain_name]           # send all actions to tne environment\n",
    "            next_states = env_info.vector_observations         # get next state (for each agent)\n",
    "            rewards = env_info.rewards                         # get reward (for each agent)\n",
    "            dones = env_info.local_done                        # see if episode finished            \n",
    "            store(buffers, states, actions, rewards, next_states, dones, t)\n",
    "            learn(agent, buffers, t, i_episode)\n",
    "            states = next_states                               # roll over states to next time step\n",
    "            scores += rewards                                  # update the score (for each agent)            \n",
    "            if np.any(dones):                                  # exit loop if episode finished\n",
    "                break\n",
    "        \n",
    "        score = np.max(scores)        \n",
    "        scores_deque.append(score)\n",
    "        score_average = np.mean(scores_deque)\n",
    "        scores_global.append(score)\n",
    "        average_global.append(score_average)  \n",
    "        min_global.append(np.min(scores))  \n",
    "        \n",
    "        if i_episode % print_every == 0:\n",
    "            agent.save('./')\n",
    "            print('\\r {}, {:.2f}, {:.2f}, {:.2f}, {:.2f}'\\\n",
    "              .format(str(i_episode).zfill(3), score, score_average, \n",
    "                      np.min(scores), time.time() - timestep), end=\"\\n\")\n",
    "        if  stopOnSolved and score_average > 0.5:            \n",
    "            toc = time.time()\n",
    "            print('\\nSolved in {:d} episodes!\\tAvg Score: {:.2f}, time: {}'.format(i_episode, score_average, toc-tic))\n",
    "            agent.save('./'+str(i_episode)+'_')\n",
    "            break\n",
    "     \n",
    "    print('End: ',datetime.datetime.now())\n",
    "    return scores_global, average_global, min_global\n",
    "\n",
    "ddpg"
   ]
  },
  {
   "cell_type": "code",
   "execution_count": 12,
   "metadata": {},
   "outputs": [
    {
     "name": "stdout",
     "output_type": "stream",
     "text": [
      "No,Score,  Avg,  Min, Time\n",
      " 050, 0.00, 0.03, -0.01, 0.29\n",
      " 100, 0.09, 0.02, 0.00, 0.07\n",
      " 150, 0.00, 0.02, -0.01, 0.05\n",
      " 200, 0.10, 0.02, 0.09, 0.15\n",
      " 250, 0.00, 0.02, -0.01, 0.30\n",
      " 300, 0.00, 0.01, -0.01, 0.29\n",
      " 350, 0.00, 0.00, -0.01, 0.30\n",
      " 400, 0.00, 0.00, -0.01, 0.32\n",
      " 450, 0.00, 0.00, -0.01, 0.29\n",
      " 500, 0.00, 0.00, -0.01, 0.30\n",
      " 550, 0.00, 0.00, -0.01, 0.32\n",
      " 600, 0.00, 0.00, -0.01, 0.30\n",
      " 650, 0.00, 0.00, -0.01, 0.31\n",
      " 700, 0.09, 0.02, 0.00, 0.61\n",
      " 750, 0.00, 0.04, -0.01, 0.29\n",
      " 800, 0.00, 0.06, -0.01, 0.31\n",
      " 850, 0.00, 0.04, -0.01, 0.29\n",
      " 900, 0.00, 0.00, -0.01, 0.31\n",
      " 950, 0.00, 0.01, -0.01, 0.30\n",
      " 1000, 0.10, 0.02, 0.09, 1.26\n",
      " 1050, 0.00, 0.02, -0.01, 0.29\n",
      " 1100, 0.00, 0.01, -0.01, 0.29\n",
      " 1150, 0.00, 0.01, -0.01, 0.31\n",
      " 1200, 0.10, 0.02, -0.01, 0.96\n",
      " 1250, 0.00, 0.06, -0.01, 0.31\n",
      " 1300, 0.10, 0.08, -0.01, 0.62\n",
      " 1350, 0.10, 0.05, -0.01, 0.61\n",
      " 1400, 0.00, 0.02, -0.01, 0.57\n",
      " 1450, 0.00, 0.03, -0.01, 0.58\n",
      " 1500, 0.10, 0.07, -0.01, 0.95\n",
      " 1550, 0.00, 0.11, -0.01, 0.33\n",
      " 1600, 0.00, 0.10, -0.01, 0.30\n",
      " 1650, 0.10, 0.10, 0.09, 1.24\n",
      " 1700, 0.10, 0.11, -0.01, 0.64\n",
      " 1750, 0.10, 0.13, -0.01, 0.63\n",
      " 1800, 0.09, 0.16, 0.00, 0.65\n",
      " 1850, 0.10, 0.14, -0.01, 0.62\n",
      " 1900, 0.90, 0.17, 0.89, 5.87\n",
      " 1950, 0.10, 0.46, 0.09, 1.60\n",
      "\n",
      "Solved in 1956 episodes!\tAvg Score: 0.51, time: 1250.3244590759277\n",
      "End:  2019-01-25 23:22:24.782273\n"
     ]
    }
   ],
   "source": [
    "# Create new empty buffers to start training from scratch\n",
    "buffers = [ReplayBuffer(action_size, BUFFER_SIZE, BATCH_SIZE, random_seed),\n",
    "           ReplayBuffer(action_size, CACHE_SIZE, BATCH_SIZE, random_seed)]\n",
    "agent = DDPG(state_size=state_size, action_size=action_size, random_seed=23, \n",
    "              fc1_units=96, fc2_units=96)\n",
    "scores, averages, minima = ddpg(agent, buffers, n_episodes=2000)"
   ]
  },
  {
   "cell_type": "markdown",
   "metadata": {},
   "source": [
    "### 7. Generating plots"
   ]
  },
  {
   "cell_type": "code",
   "execution_count": 13,
   "metadata": {},
   "outputs": [
    {
     "data": {
      "image/png": "[encoded data removed]",
      "text/plain": [
       "<matplotlib.figure.Figure at 0x7fae2afc51d0>"
      ]
     },
     "metadata": {
      "needs_background": "light"
     },
     "output_type": "display_data"
    }
   ],
   "source": [
    "plt.plot(np.arange(1, len(averages)+1), averages)\n",
    "plt.plot(np.arange(1, len(scores)+1), scores)\n",
    "plt.ylabel('Score')\n",
    "plt.xlabel('Episode #')\n",
    "plt.legend(['Avg', 'Score'], loc='upper left')\n",
    "plt.show()"
   ]
  }
 ],
 "metadata": {
  "kernelspec": {
   "display_name": "Python 3",
   "language": "python",
   "name": "python3"
  },
  "language_info": {
   "codemirror_mode": {
    "name": "ipython",
    "version": 3
   },
   "file_extension": ".py",
   "mimetype": "text/x-python",
   "name": "python",
   "nbconvert_exporter": "python",
   "pygments_lexer": "ipython3",
   "version": "3.6.3"
  }
 },
 "nbformat": 4,
 "nbformat_minor": 2
}
